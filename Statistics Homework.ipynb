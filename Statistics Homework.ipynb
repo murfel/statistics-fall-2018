{
 "cells": [
  {
   "cell_type": "markdown",
   "metadata": {},
   "source": [
    "# Old homework (scroll down for #11)"
   ]
  },
  {
   "cell_type": "code",
   "execution_count": null,
   "metadata": {},
   "outputs": [],
   "source": [
    "N = 6\n",
    "f0 = [0.17, 0.17, 0.17, 0.17, 0.14, 0.18]\n",
    "f1 = [1/6, 1/6, 1/6, 1/6, 1/6, 1/6]\n",
    "f02 = [[f0[i] * f0[j] for j in range(N)] for i in range(N)]\n",
    "f12 = [[f1[i] * f1[j] for j in range(N)] for i in range(N)]\n",
    "f12overf02 = [[f12[r][c] / f02[r][c] for c in range(N)] for r in range(N)]\n",
    "f12overf02flat = [item for sublist in f12overf02 for item in sublist]\n",
    "values = sorted(list(set(f12overf02flat)))"
   ]
  },
  {
   "cell_type": "code",
   "execution_count": 6,
   "metadata": {},
   "outputs": [
    {
     "data": {
      "text/plain": [
       "[0.8573388203017832,\n",
       " 0.9077705156136527,\n",
       " 0.9611687812379851,\n",
       " 1.1022927689594355,\n",
       " 1.1671335200746962,\n",
       " 1.4172335600907027]"
      ]
     },
     "execution_count": 6,
     "metadata": {},
     "output_type": "execute_result"
    }
   ],
   "source": [
    "values"
   ]
  },
  {
   "cell_type": "code",
   "execution_count": 32,
   "metadata": {},
   "outputs": [
    {
     "name": "stdout",
     "output_type": "stream",
     "text": [
      "k, alpha\n",
      "0.86 0.9676\n",
      "0.91 0.7228\n",
      "0.96 0.2604\n",
      "1.1 0.21\n",
      "1.2 0.0196\n",
      "The criterion is f1 / f2 > 1.167 for the level 0.0196\n",
      "[0, 0, 0, 0, 0, 0]\n",
      "[0, 0, 0, 0, 0, 0]\n",
      "[0, 0, 0, 0, 0, 0]\n",
      "[0, 0, 0, 0, 0, 0]\n",
      "[0, 0, 0, 0, 1, 0]\n",
      "[0, 0, 0, 0, 0, 0]\n",
      "1.4 0.0\n",
      "As we can see in the table above, the first-order error will only happen if we roll two 5.\n"
     ]
    }
   ],
   "source": [
    "print('k, alpha')\n",
    "for k in values:\n",
    "    mask = [[v > k for v in r] for r in f12overf02]\n",
    "    probs = [[f02[r][c] * mask[r][c] for c in range(N)] for r in range(N)]\n",
    "    alpha = sum(map(sum, probs))\n",
    "    print('{:.2} {:.4}'.format(k, alpha))\n",
    "    if alpha > 0 and alpha < .02:\n",
    "        print('The criterion is f1 / f2 > {:.4} for the level {:.4}'.format(k, alpha))\n",
    "        for r in mask: print([int(v) for v in r])\n",
    "print('As we can see in the table above, the first-order error will only happen if we roll two 5.')"
   ]
  },
  {
   "cell_type": "markdown",
   "metadata": {},
   "source": [
    "# Homework 11\n",
    "## Distribution modelling\n",
    "### https://wiki.compscicenter.ru/images/0/0d/MathStat-2018-12-05.pdf"
   ]
  },
  {
   "cell_type": "code",
   "execution_count": 11,
   "metadata": {},
   "outputs": [],
   "source": [
    "import random\n",
    "import matplotlib.pyplot as plt\n",
    "\n",
    "from math import exp, log\n",
    "\n",
    "%matplotlib inline"
   ]
  },
  {
   "cell_type": "code",
   "execution_count": 18,
   "metadata": {},
   "outputs": [],
   "source": [
    "a = 1\n",
    "c = 1 / 2 / (exp(-a) + a)\n",
    "n = 100\n",
    "\n",
    "def custom_random(a = a):    \n",
    "    y = random.random()\n",
    "    x1 = log(y) \n",
    "    x2 = y - exp(-a) - a\n",
    "    x3 = -log(2 * exp(-a) + 2 * a - y)\n",
    "    if x1 < -a: return x1\n",
    "    if -a <= x2 <= a: return x2\n",
    "    return x3"
   ]
  },
  {
   "cell_type": "markdown",
   "metadata": {},
   "source": [
    "## Expected density function"
   ]
  },
  {
   "cell_type": "code",
   "execution_count": 24,
   "metadata": {},
   "outputs": [
    {
     "data": {
      "text/plain": [
       "[<matplotlib.lines.Line2D at 0x110fbf6a0>]"
      ]
     },
     "execution_count": 24,
     "metadata": {},
     "output_type": "execute_result"
    },
    {
     "data": {
      "image/png": "[encoded data removed]",
      "text/plain": [
       "<Figure size 432x288 with 1 Axes>"
      ]
     },
     "metadata": {
      "needs_background": "light"
     },
     "output_type": "display_data"
    }
   ],
   "source": [
    "def f(x, a = a):\n",
    "    return exp(-abs(x)) if abs(x) > a else 1\n",
    "inputs = list(range(-10, 10))\n",
    "outputs0 = [f(x) for x in inputs]\n",
    "plt.plot(inputs, outputs)"
   ]
  },
  {
   "cell_type": "markdown",
   "metadata": {},
   "source": [
    "## Actual distribution function"
   ]
  },
  {
   "cell_type": "code",
   "execution_count": 29,
   "metadata": {},
   "outputs": [
    {
     "data": {
      "image/png": "[encoded data removed]",
      "text/plain": [
       "<Figure size 432x288 with 1 Axes>"
      ]
     },
     "metadata": {
      "needs_background": "light"
     },
     "output_type": "display_data"
    }
   ],
   "source": [
    "values = [custom_random() for _ in range(n)]\n",
    "values.sort()\n",
    "outputs2 = [len(list(filter(lambda v: v <= x, values))) / 100 for x in inputs]\n",
    "plt.plot(inputs, outputs2)\n",
    "plt.show()"
   ]
  },
  {
   "cell_type": "code",
   "execution_count": null,
   "metadata": {},
   "outputs": [],
   "source": []
  },
  {
   "cell_type": "code",
   "execution_count": null,
   "metadata": {},
   "outputs": [],
   "source": []
  }
 ],
 "metadata": {
  "kernelspec": {
   "display_name": "Python 3",
   "language": "python",
   "name": "python3"
  },
  "language_info": {
   "codemirror_mode": {
    "name": "ipython",
    "version": 3
   },
   "file_extension": ".py",
   "mimetype": "text/x-python",
   "name": "python",
   "nbconvert_exporter": "python",
   "pygments_lexer": "ipython3",
   "version": "3.7.1"
  }
 },
 "nbformat": 4,
 "nbformat_minor": 2
}
